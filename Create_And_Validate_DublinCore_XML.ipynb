{
  "cells": [
    {
      "cell_type": "markdown",
      "metadata": {
        "id": "view-in-github",
        "colab_type": "text"
      },
      "source": [
        "<a href=\"https://colab.research.google.com/github/MehrdadJalali-AI/Data_Management/blob/main/Create_And_Validate_DublinCore_XML.ipynb\" target=\"_parent\"><img src=\"https://colab.research.google.com/assets/colab-badge.svg\" alt=\"Open In Colab\"/></a>"
      ]
    },
    {
      "cell_type": "markdown",
      "metadata": {
        "id": "SAk4EjafHtHg"
      },
      "source": [
        "# 📘 Step-by-Step: Creating and Validating Dublin Core XML in VS Code\n",
        "\n",
        "This notebook will guide you through:\n",
        "- Creating an XML file with Dublin Core metadata\n",
        "- Validating its structure using Visual Studio Code\n",
        "- (Optional) Linking a schema for more advanced validation\n"
      ]
    },
    {
      "cell_type": "markdown",
      "metadata": {
        "id": "KZdHhgcNHtHi"
      },
      "source": [
        "## ✅ Step 1: Create a Folder and XML File\n",
        "1. Open **VS Code**.\n",
        "2. Create a new folder (e.g., `DublinCoreExample`).\n",
        "3. Inside the folder, create a new file called `metadata.xml`.\n"
      ]
    },
    {
      "cell_type": "code",
      "execution_count": null,
      "metadata": {
        "id": "f_d-OePNHtHi"
      },
      "outputs": [],
      "source": [
        "# Sample content for metadata.xml\n",
        "<?xml version=\"1.0\" encoding=\"UTF-8\"?>\n",
        "<metadata xmlns:dc=\"http://purl.org/dc/elements/1.1/\">\n",
        "    <dc:title>A Study on Data Management Practices</dc:title>\n",
        "    <dc:creator>Jane Doe</dc:creator>\n",
        "    <dc:subject>Data Management, Best Practices</dc:subject>\n",
        "    <dc:description>This document discusses current trends and best practices in data management.</dc:description>\n",
        "    <dc:date>2023-01-01</dc:date>\n",
        "    <dc:type>Research Report</dc:type>\n",
        "    <dc:format>PDF</dc:format>\n",
        "    <dc:identifier>https://example.com/resources/12345</dc:identifier>\n",
        "    <dc:source>https://example.com</dc:source>\n",
        "    <dc:language>en</dc:language>\n",
        "</metadata>"
      ]
    },
    {
      "cell_type": "markdown",
      "metadata": {
        "id": "GOeRQHTqHtHj"
      },
      "source": [
        "## ✅ Step 2: Install Red Hat XML Extension in VS Code\n",
        "- Go to the Extensions tab (left sidebar)\n",
        "- Search for `Red Hat XML` and install it\n",
        "- It enables live validation and XML auto-completion\n"
      ]
    },
    {
      "cell_type": "markdown",
      "metadata": {
        "id": "jQQXluJZHtHj"
      },
      "source": [
        "## ✅ Step 3: Validate XML\n",
        "1. Open your `metadata.xml` file in VS Code\n",
        "2. The Red Hat XML extension will validate it automatically\n",
        "3. If your XML is well-formed, you will **not see any errors**\n",
        "\n",
        "💡 *Avoid clicking the ▶️ 'Run' button – XML is not an executable file.*\n"
      ]
    },
    {
      "cell_type": "markdown",
      "metadata": {
        "id": "Cj-H2TbuHtHj"
      },
      "source": [
        "## 🧪 Optional: Add Schema Validation (Advanced)\n",
        "If you'd like to validate using an XSD:\n",
        "- Download or create a Dublin Core schema file (e.g., `dc.xsd`)\n",
        "- Link it in your XML like this:\n"
      ]
    },
    {
      "cell_type": "code",
      "execution_count": null,
      "metadata": {
        "id": "Re8RPCreHtHj"
      },
      "outputs": [],
      "source": [
        "<metadata xmlns:dc=\"http://purl.org/dc/elements/1.1/\"\n",
        "          xmlns:xsi=\"http://www.w3.org/2001/XMLSchema-instance\"\n",
        "          xsi:schemaLocation=\"http://purl.org/dc/elements/1.1/ dc.xsd\">\n",
        "    ...\n",
        "</metadata>"
      ]
    }
  ],
  "metadata": {
    "kernelspec": {
      "display_name": "Python 3",
      "language": "python",
      "name": "python3"
    },
    "language_info": {
      "name": "python",
      "version": "3.x"
    },
    "colab": {
      "provenance": [],
      "include_colab_link": true
    }
  },
  "nbformat": 4,
  "nbformat_minor": 0
}