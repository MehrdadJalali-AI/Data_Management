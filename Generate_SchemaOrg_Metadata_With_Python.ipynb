{
  "cells": [
    {
      "cell_type": "markdown",
      "metadata": {
        "id": "view-in-github",
        "colab_type": "text"
      },
      "source": [
        "<a href=\"https://colab.research.google.com/github/MehrdadJalali-AI/Data_Management/blob/main/Generate_SchemaOrg_Metadata_With_Python.ipynb\" target=\"_parent\"><img src=\"https://colab.research.google.com/assets/colab-badge.svg\" alt=\"Open In Colab\"/></a>"
      ]
    },
    {
      "cell_type": "markdown",
      "metadata": {
        "id": "b6lQ7CDtJ9N-"
      },
      "source": [
        "# 🧩 Generate Schema.org Metadata with Python\n",
        "\n",
        "This notebook demonstrates how to dynamically generate schema.org metadata in JSON-LD format using Python. This metadata can be used in web pages to describe content like articles, datasets, or people."
      ]
    },
    {
      "cell_type": "markdown",
      "metadata": {
        "id": "CGWzvSv6J9OA"
      },
      "source": [
        "## ✅ Step 1: Create JSON-LD Metadata in Python\n",
        "Below is a Python dictionary that represents structured metadata for an article:"
      ]
    },
    {
      "cell_type": "code",
      "execution_count": null,
      "metadata": {
        "id": "s-lclQIJJ9OA"
      },
      "outputs": [],
      "source": [
        "import json\n",
        "\n",
        "metadata = {\n",
        "    \"@context\": \"http://schema.org\",\n",
        "    \"@type\": \"Article\",\n",
        "    \"name\": \"Understanding Data Management\",\n",
        "    \"author\": {\n",
        "        \"@type\": \"Person\",\n",
        "        \"name\": \"Jane Doe\"\n",
        "    },\n",
        "    \"datePublished\": \"2023-01-01\",\n",
        "    \"description\": \"This article provides insights into the best practices for data management.\",\n",
        "    \"publisher\": {\n",
        "        \"@type\": \"Organization\",\n",
        "        \"name\": \"Tech Insights Journal\"\n",
        "    }\n",
        "}\n",
        "\n",
        "# Display the JSON-LD\n",
        "print(json.dumps(metadata, indent=2))"
      ]
    },
    {
      "cell_type": "markdown",
      "metadata": {
        "id": "qrzA0PCFJ9OB"
      },
      "source": [
        "## ✅ Step 2: Save as HTML with Embedded JSON-LD\n",
        "The next cell shows how to embed the generated metadata into an HTML file using Python:"
      ]
    },
    {
      "cell_type": "code",
      "execution_count": null,
      "metadata": {
        "id": "9gIIduQbJ9OB"
      },
      "outputs": [],
      "source": [
        "html_template = f\"\"\"\n",
        "<!DOCTYPE html>\n",
        "<html lang=\\\"en\\\">\n",
        "<head>\n",
        "  <meta charset=\\\"UTF-8\\\">\n",
        "  <title>Schema.org Example</title>\n",
        "  <script type=\\\"application/ld+json\\\">\n",
        "{json.dumps(metadata, indent=2)}\n",
        "  </script>\n",
        "</head>\n",
        "<body>\n",
        "  <h1>Schema.org Metadata Example</h1>\n",
        "</body>\n",
        "</html>\n",
        "\"\"\"\n",
        "\n",
        "# Save to file\n",
        "with open(\"schemaorg_metadata.html\", \"w\") as file:\n",
        "    file.write(html_template)\n",
        "\n",
        "print(\"HTML file with embedded schema.org metadata has been saved as 'schemaorg_metadata.html'.\")"
      ]
    },
    {
      "cell_type": "markdown",
      "metadata": {
        "id": "bxs0Euv_J9OB"
      },
      "source": [
        "## ✅ Step 3: Validate\n",
        "To validate your file:\n",
        "1. Open `schemaorg_metadata.html` in a browser.\n",
        "2. Copy the contents of the `<script>` tag.\n",
        "3. Paste it into [https://validator.schema.org](https://validator.schema.org) or the [Google Rich Results Test](https://search.google.com/test/rich-results)."
      ]
    }
  ],
  "metadata": {
    "kernelspec": {
      "display_name": "Python 3",
      "language": "python",
      "name": "python3"
    },
    "language_info": {
      "name": "python",
      "version": "3.x"
    },
    "colab": {
      "provenance": [],
      "include_colab_link": true
    }
  },
  "nbformat": 4,
  "nbformat_minor": 0
}