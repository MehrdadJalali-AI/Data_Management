{
  "nbformat": 4,
  "nbformat_minor": 0,
  "metadata": {
    "colab": {
      "provenance": [],
      "authorship_tag": "ABX9TyPIoGR2u2+uQkO/Z1nzkGzR",
      "include_colab_link": true
    },
    "kernelspec": {
      "name": "python3",
      "display_name": "Python 3"
    },
    "language_info": {
      "name": "python"
    }
  },
  "cells": [
    {
      "cell_type": "markdown",
      "metadata": {
        "id": "view-in-github",
        "colab_type": "text"
      },
      "source": [
        "<a href=\"https://colab.research.google.com/github/MehrdadJalali-AI/Data_Management/blob/main/Metadata.ipynb\" target=\"_parent\"><img src=\"https://colab.research.google.com/assets/colab-badge.svg\" alt=\"Open In Colab\"/></a>"
      ]
    },
    {
      "cell_type": "code",
      "execution_count": 3,
      "metadata": {
        "colab": {
          "base_uri": "https://localhost:8080/"
        },
        "id": "KoyhpxUCJfCh",
        "outputId": "bd981d0e-84a1-4301-ea34-1c9f012fc79a"
      },
      "outputs": [
        {
          "output_type": "stream",
          "name": "stdout",
          "text": [
            "Metadata has been saved to 'books_metadata.json'\n"
          ]
        }
      ],
      "source": [
        "import pandas as pd\n",
        "import json\n",
        "\n",
        "# Function to convert a row to a Schema.org Book JSON-LD format\n",
        "def row_to_schema(row):\n",
        "    return {\n",
        "        \"@context\": \"http://schema.org\",\n",
        "        \"@type\": \"Book\",\n",
        "        \"name\": row['Title'],\n",
        "        \"author\": {\n",
        "            \"@type\": \"Person\",\n",
        "            \"name\": row['Author']\n",
        "        },\n",
        "        \"isbn\": row['ISBN']\n",
        "    }\n",
        "\n",
        "# Read the CSV file\n",
        "df = pd.read_csv('Book.csv')  # Replace 'books.csv' with the path to your CSV file\n",
        "\n",
        "# Convert each row to Schema.org JSON-LD and store in a list\n",
        "schemas = df.apply(row_to_schema, axis=1).tolist()\n",
        "\n",
        "# Save the JSON-LD output to a file\n",
        "with open('books_metadata.json', 'w') as f:\n",
        "    json.dump(schemas, f, indent=4)\n",
        "\n",
        "print(\"Metadata has been saved to 'books_metadata.json'\")\n"
      ]
    },
    {
      "cell_type": "code",
      "source": [
        "import xml.etree.ElementTree as ET\n",
        "\n",
        "# Parse the XML file\n",
        "tree = ET.parse(\"metadata.xml\")\n",
        "root = tree.getroot()\n",
        "\n",
        "# Extract Dublin Core elements\n",
        "for element in root:\n",
        "    print(f\"{element.tag}: {element.text}\")"
      ],
      "metadata": {
        "id": "LwFh7WfD_DRz",
        "outputId": "dd76efe8-b11f-46c7-a717-37bf5316a50d",
        "colab": {
          "base_uri": "https://localhost:8080/"
        }
      },
      "execution_count": 10,
      "outputs": [
        {
          "output_type": "stream",
          "name": "stdout",
          "text": [
            "{http://purl.org/dc/elements/1.1/}title: A Study on Data Management Practices\n",
            "{http://purl.org/dc/elements/1.1/}creator: Jane Doe\n",
            "{http://purl.org/dc/elements/1.1/}subject: Data Management; Best Practices\n",
            "{http://purl.org/dc/elements/1.1/}description: This document discusses current trends and best practices in data management.\n",
            "{http://purl.org/dc/elements/1.1/}date: 2023-01-01\n",
            "{http://purl.org/dc/elements/1.1/}type: Research Report\n",
            "{http://purl.org/dc/elements/1.1/}format: PDF\n",
            "{http://purl.org/dc/elements/1.1/}identifier: https://example.com/resources/12345\n",
            "{http://purl.org/dc/elements/1.1/}source: https://example.com\n",
            "{http://purl.org/dc/elements/1.1/}language: en\n"
          ]
        }
      ]
    },
    {
      "cell_type": "code",
      "source": [],
      "metadata": {
        "id": "97K1zsDZBveh"
      },
      "execution_count": null,
      "outputs": []
    },
    {
      "cell_type": "code",
      "source": [
        "import json\n",
        "\n",
        "# Function to recursively print elements of the JSON data\n",
        "def print_elements(element, indent=0):\n",
        "    prefix = ' ' * indent\n",
        "    if isinstance(element, dict):\n",
        "        for key, value in element.items():\n",
        "            print(f\"{prefix}{key}:\")\n",
        "            print_elements(value, indent + 4)\n",
        "    elif isinstance(element, list):\n",
        "        for i, item in enumerate(element):\n",
        "            print(f\"{prefix}Index {i}:\")\n",
        "            print_elements(item, indent + 4)\n",
        "    else:\n",
        "        print(f\"{prefix}{element}\")\n",
        "\n",
        "# Load the JSON data from a file\n",
        "try:\n",
        "    with open('books_metadata.json', 'r') as file:\n",
        "        data = json.load(file)\n",
        "\n",
        "    # Print the loaded JSON data\n",
        "    print_elements(data)\n",
        "\n",
        "except FileNotFoundError:\n",
        "    print(\"File not found. Please make sure the file path is correct.\")\n",
        "except json.JSONDecodeError:\n",
        "    print(\"Error decoding JSON. Please ensure the file contains valid JSON.\")\n"
      ],
      "metadata": {
        "colab": {
          "base_uri": "https://localhost:8080/"
        },
        "id": "7MB6Xo8lP9vz",
        "outputId": "230a6ac7-dcf2-45a7-a7b0-19309ed9f749"
      },
      "execution_count": 4,
      "outputs": [
        {
          "output_type": "stream",
          "name": "stdout",
          "text": [
            "Index 0:\n",
            "    @context:\n",
            "        http://schema.org\n",
            "    @type:\n",
            "        Book\n",
            "    name:\n",
            "        1984\n",
            "    author:\n",
            "        @type:\n",
            "            Person\n",
            "        name:\n",
            "            George Orwell\n",
            "    isbn:\n",
            "        9780451524935\n",
            "Index 1:\n",
            "    @context:\n",
            "        http://schema.org\n",
            "    @type:\n",
            "        Book\n",
            "    name:\n",
            "        To Kill a Mockingbird\n",
            "    author:\n",
            "        @type:\n",
            "            Person\n",
            "        name:\n",
            "            Harper Lee\n",
            "    isbn:\n",
            "        9780060935467\n",
            "Index 2:\n",
            "    @context:\n",
            "        http://schema.org\n",
            "    @type:\n",
            "        Book\n",
            "    name:\n",
            "        Pride and Prejudice\n",
            "    author:\n",
            "        @type:\n",
            "            Person\n",
            "        name:\n",
            "            Jane Austen\n",
            "    isbn:\n",
            "        9781503290563\n"
          ]
        }
      ]
    },
    {
      "cell_type": "code",
      "source": [
        "import json\n",
        "from anytree import Node, RenderTree, PreOrderIter\n",
        "\n",
        "# Sample JSON data (as a string for demonstration)\n",
        "json_data = \"\"\"\n",
        "{\n",
        "  \"store\": {\n",
        "    \"name\": \"Readers' Paradise\",\n",
        "    \"location\": \"123 Book St, Fictionville, TX\",\n",
        "    \"online\": true\n",
        "  },\n",
        "  \"books\": [\n",
        "    {\n",
        "      \"title\": \"The Great Escape\",\n",
        "      \"author\": {\n",
        "        \"firstName\": \"Jane\",\n",
        "        \"lastName\": \"Doe\",\n",
        "        \"age\": 45,\n",
        "        \"nationality\": \"Canadian\"\n",
        "      },\n",
        "      \"isbn\": \"978-1-23456-789-0\",\n",
        "      \"price\": 15.99,\n",
        "      \"available\": true,\n",
        "      \"categories\": [\"Adventure\", \"History\"],\n",
        "      \"publicationDate\": \"2020-07-01\",\n",
        "      \"reviews\": [\n",
        "        {\n",
        "          \"username\": \"booklover91\",\n",
        "          \"rating\": 4,\n",
        "          \"comment\": \"Exciting read with a few slow parts, but overall great!\",\n",
        "          \"date\": \"2021-01-15\"\n",
        "        }\n",
        "      ]\n",
        "    }\n",
        "  ],\n",
        "  \"metadata\": {\n",
        "    \"lastUpdated\": \"2025-01-08\",\n",
        "    \"numBooks\": 2,\n",
        "    \"bestSeller\": \"The Great Escape\"\n",
        "  }\n",
        "}\n",
        "\"\"\"\n",
        "\n",
        "# Function to recursively add nodes to the tree\n",
        "def add_nodes(parent, obj):\n",
        "    if isinstance(obj, dict):\n",
        "        for k, v in obj.items():\n",
        "            child = Node(k, parent=parent)\n",
        "            add_nodes(child, v)\n",
        "    elif isinstance(obj, list):\n",
        "        for i, item in enumerate(obj):\n",
        "            child = Node(f'Index {i}', parent=parent)\n",
        "            add_nodes(child, item)\n",
        "    else:\n",
        "        Node(f\"{obj}\", parent=parent)\n",
        "\n",
        "# Load JSON data\n",
        "data = json.loads(json_data)\n",
        "\n",
        "# Create the root of the tree\n",
        "root = Node('Root')\n",
        "\n",
        "# Build the tree from JSON data\n",
        "add_nodes(root, data)\n",
        "\n",
        "# Render the tree\n",
        "for pre, fill, node in RenderTree(root):\n",
        "    print(\"%s%s\" % (pre, node.name))\n"
      ],
      "metadata": {
        "colab": {
          "base_uri": "https://localhost:8080/"
        },
        "id": "b870AaUcOqhO",
        "outputId": "bc5d0522-55e2-4631-e51a-7bfd47dfc36f"
      },
      "execution_count": 7,
      "outputs": [
        {
          "output_type": "stream",
          "name": "stdout",
          "text": [
            "Root\n",
            "├── store\n",
            "│   ├── name\n",
            "│   │   └── Readers' Paradise\n",
            "│   ├── location\n",
            "│   │   └── 123 Book St, Fictionville, TX\n",
            "│   └── online\n",
            "│       └── True\n",
            "├── books\n",
            "│   └── Index 0\n",
            "│       ├── title\n",
            "│       │   └── The Great Escape\n",
            "│       ├── author\n",
            "│       │   ├── firstName\n",
            "│       │   │   └── Jane\n",
            "│       │   ├── lastName\n",
            "│       │   │   └── Doe\n",
            "│       │   ├── age\n",
            "│       │   │   └── 45\n",
            "│       │   └── nationality\n",
            "│       │       └── Canadian\n",
            "│       ├── isbn\n",
            "│       │   └── 978-1-23456-789-0\n",
            "│       ├── price\n",
            "│       │   └── 15.99\n",
            "│       ├── available\n",
            "│       │   └── True\n",
            "│       ├── categories\n",
            "│       │   ├── Index 0\n",
            "│       │   │   └── Adventure\n",
            "│       │   └── Index 1\n",
            "│       │       └── History\n",
            "│       ├── publicationDate\n",
            "│       │   └── 2020-07-01\n",
            "│       └── reviews\n",
            "│           └── Index 0\n",
            "│               ├── username\n",
            "│               │   └── booklover91\n",
            "│               ├── rating\n",
            "│               │   └── 4\n",
            "│               ├── comment\n",
            "│               │   └── Exciting read with a few slow parts, but overall great!\n",
            "│               └── date\n",
            "│                   └── 2021-01-15\n",
            "└── metadata\n",
            "    ├── lastUpdated\n",
            "    │   └── 2025-01-08\n",
            "    ├── numBooks\n",
            "    │   └── 2\n",
            "    └── bestSeller\n",
            "        └── The Great Escape\n"
          ]
        }
      ]
    },
    {
      "cell_type": "code",
      "source": [
        "pip install anytree"
      ],
      "metadata": {
        "colab": {
          "base_uri": "https://localhost:8080/"
        },
        "id": "kEguX-JEOs_q",
        "outputId": "291c8f29-de2b-4989-86a1-ca464d34a5ea"
      },
      "execution_count": 6,
      "outputs": [
        {
          "output_type": "stream",
          "name": "stdout",
          "text": [
            "Collecting anytree\n",
            "  Downloading anytree-2.12.1-py3-none-any.whl.metadata (8.1 kB)\n",
            "Requirement already satisfied: six in /usr/local/lib/python3.11/dist-packages (from anytree) (1.17.0)\n",
            "Downloading anytree-2.12.1-py3-none-any.whl (44 kB)\n",
            "\u001b[?25l   \u001b[90m━━━━━━━━━━━━━━━━━━━━━━━━━━━━━━━━━━━━━━━━\u001b[0m \u001b[32m0.0/44.9 kB\u001b[0m \u001b[31m?\u001b[0m eta \u001b[36m-:--:--\u001b[0m\r\u001b[2K   \u001b[90m━━━━━━━━━━━━━━━━━━━━━━━━━━━━━━━━━━━━━━━━\u001b[0m \u001b[32m44.9/44.9 kB\u001b[0m \u001b[31m1.8 MB/s\u001b[0m eta \u001b[36m0:00:00\u001b[0m\n",
            "\u001b[?25hInstalling collected packages: anytree\n",
            "Successfully installed anytree-2.12.1\n"
          ]
        }
      ]
    },
    {
      "cell_type": "code",
      "source": [
        "# Mount drive\n",
        "from google.colab import drive\n",
        "import os\n",
        "\n",
        "drive.mount('/content/drive')\n",
        "# Change working path\n",
        "os.chdir('/content/drive/MyDrive/SRH/Modules/Data_Management_1/Practical')"
      ],
      "metadata": {
        "colab": {
          "base_uri": "https://localhost:8080/"
        },
        "id": "lm-yMEzzKFrc",
        "outputId": "b0c59cd7-1f69-4b4b-d4e3-8f87438da3ae"
      },
      "execution_count": 2,
      "outputs": [
        {
          "output_type": "stream",
          "name": "stdout",
          "text": [
            "Mounted at /content/drive\n"
          ]
        }
      ]
    }
  ]
}