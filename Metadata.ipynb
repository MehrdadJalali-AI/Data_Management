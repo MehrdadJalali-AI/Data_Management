{
  "nbformat": 4,
  "nbformat_minor": 0,
  "metadata": {
    "colab": {
      "provenance": [],
      "authorship_tag": "ABX9TyMsPE1jHzWeStCSNH36tQtL",
      "include_colab_link": true
    },
    "kernelspec": {
      "name": "python3",
      "display_name": "Python 3"
    },
    "language_info": {
      "name": "python"
    }
  },
  "cells": [
    {
      "cell_type": "markdown",
      "metadata": {
        "id": "view-in-github",
        "colab_type": "text"
      },
      "source": [
        "<a href=\"https://colab.research.google.com/github/MehrdadJalali-AI/Data_Management/blob/main/Metadata.ipynb\" target=\"_parent\"><img src=\"https://colab.research.google.com/assets/colab-badge.svg\" alt=\"Open In Colab\"/></a>"
      ]
    },
    {
      "cell_type": "code",
      "execution_count": 7,
      "metadata": {
        "colab": {
          "base_uri": "https://localhost:8080/"
        },
        "id": "KoyhpxUCJfCh",
        "outputId": "a1876103-3c77-4420-feef-0a5ed9e6ea78"
      },
      "outputs": [
        {
          "output_type": "stream",
          "name": "stdout",
          "text": [
            "{\n",
            "    \"@context\": \"http://schema.org\",\n",
            "    \"@type\": \"Book\",\n",
            "    \"name\": \"1984\",\n",
            "    \"author\": {\n",
            "        \"@type\": \"Person\",\n",
            "        \"name\": \"George Orwell\"\n",
            "    },\n",
            "    \"isbn\": 9780451524935\n",
            "}\n",
            "{\n",
            "    \"@context\": \"http://schema.org\",\n",
            "    \"@type\": \"Book\",\n",
            "    \"name\": \"To Kill a Mockingbird\",\n",
            "    \"author\": {\n",
            "        \"@type\": \"Person\",\n",
            "        \"name\": \"Harper Lee\"\n",
            "    },\n",
            "    \"isbn\": 9780060935467\n",
            "}\n",
            "{\n",
            "    \"@context\": \"http://schema.org\",\n",
            "    \"@type\": \"Book\",\n",
            "    \"name\": \"Pride and Prejudice\",\n",
            "    \"author\": {\n",
            "        \"@type\": \"Person\",\n",
            "        \"name\": \"Jane Austen\"\n",
            "    },\n",
            "    \"isbn\": 9781503290563\n",
            "}\n"
          ]
        }
      ],
      "source": [
        "import pandas as pd\n",
        "import json\n",
        "\n",
        "# Function to convert a row to a Schema.org Book JSON-LD format\n",
        "def row_to_schema(row):\n",
        "    return {\n",
        "        \"@context\": \"http://schema.org\",\n",
        "        \"@type\": \"Book\",\n",
        "        \"name\": row['Title'],\n",
        "        \"author\": {\n",
        "            \"@type\": \"Person\",\n",
        "            \"name\": row['Author']\n",
        "        },\n",
        "        \"isbn\": row['ISBN']\n",
        "    }\n",
        "\n",
        "# Read the CSV file\n",
        "df = pd.read_csv('Book.csv')  # Replace 'books.csv' with the path to your CSV file\n",
        "\n",
        "# Convert each row to Schema.org JSON-LD and store in a list\n",
        "schemas = df.apply(row_to_schema, axis=1).tolist()\n",
        "\n",
        "# Print the JSON-LD output for each book\n",
        "for schema in schemas:\n",
        "    print(json.dumps(schema, indent=4))\n"
      ]
    },
    {
      "cell_type": "code",
      "source": [
        "# Mount drive\n",
        "from google.colab import drive\n",
        "import os\n",
        "\n",
        "drive.mount('/content/drive')\n",
        "# Change working path\n",
        "os.chdir('/content/drive/MyDrive/SRH/Modules/Data_Management_1/Practical')"
      ],
      "metadata": {
        "colab": {
          "base_uri": "https://localhost:8080/"
        },
        "id": "lm-yMEzzKFrc",
        "outputId": "286ba7a7-5fce-491d-bab0-929b4144c9ec"
      },
      "execution_count": 3,
      "outputs": [
        {
          "output_type": "stream",
          "name": "stdout",
          "text": [
            "Mounted at /content/drive\n"
          ]
        }
      ]
    }
  ]
}