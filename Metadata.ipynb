{
  "nbformat": 4,
  "nbformat_minor": 0,
  "metadata": {
    "colab": {
      "provenance": [],
      "authorship_tag": "ABX9TyPK0V3W7QEi7kTrWV5+eBCb",
      "include_colab_link": true
    },
    "kernelspec": {
      "name": "python3",
      "display_name": "Python 3"
    },
    "language_info": {
      "name": "python"
    }
  },
  "cells": [
    {
      "cell_type": "markdown",
      "metadata": {
        "id": "view-in-github",
        "colab_type": "text"
      },
      "source": [
        "<a href=\"https://colab.research.google.com/github/MehrdadJalali-AI/Data_Management/blob/main/Metadata.ipynb\" target=\"_parent\"><img src=\"https://colab.research.google.com/assets/colab-badge.svg\" alt=\"Open In Colab\"/></a>"
      ]
    },
    {
      "cell_type": "code",
      "execution_count": 9,
      "metadata": {
        "colab": {
          "base_uri": "https://localhost:8080/"
        },
        "id": "KoyhpxUCJfCh",
        "outputId": "ceffe690-d2c3-4134-97fb-f1b37e3219d3"
      },
      "outputs": [
        {
          "output_type": "stream",
          "name": "stdout",
          "text": [
            "Metadata has been saved to 'books_metadata.json'\n"
          ]
        }
      ],
      "source": [
        "import pandas as pd\n",
        "import json\n",
        "\n",
        "# Function to convert a row to a Schema.org Book JSON-LD format\n",
        "def row_to_schema(row):\n",
        "    return {\n",
        "        \"@context\": \"http://schema.org\",\n",
        "        \"@type\": \"Book\",\n",
        "        \"name\": row['Title'],\n",
        "        \"author\": {\n",
        "            \"@type\": \"Person\",\n",
        "            \"name\": row['Author']\n",
        "        },\n",
        "        \"isbn\": row['ISBN']\n",
        "    }\n",
        "\n",
        "# Read the CSV file\n",
        "df = pd.read_csv('Book.csv')  # Replace 'books.csv' with the path to your CSV file\n",
        "\n",
        "# Convert each row to Schema.org JSON-LD and store in a list\n",
        "schemas = df.apply(row_to_schema, axis=1).tolist()\n",
        "\n",
        "# Save the JSON-LD output to a file\n",
        "with open('books_metadata.json', 'w') as f:\n",
        "    json.dump(schemas, f, indent=4)\n",
        "\n",
        "print(\"Metadata has been saved to 'books_metadata.json'\")\n"
      ]
    },
    {
      "cell_type": "code",
      "source": [
        "import json\n",
        "from anytree import Node, RenderTree, PreOrderIter\n",
        "\n",
        "# Sample JSON data (as a string for demonstration)\n",
        "json_data = \"\"\"\n",
        "{\n",
        "  \"store\": {\n",
        "    \"name\": \"Readers' Paradise\",\n",
        "    \"location\": \"123 Book St, Fictionville, TX\",\n",
        "    \"online\": true\n",
        "  },\n",
        "  \"books\": [\n",
        "    {\n",
        "      \"title\": \"The Great Escape\",\n",
        "      \"author\": {\n",
        "        \"firstName\": \"Jane\",\n",
        "        \"lastName\": \"Doe\",\n",
        "        \"age\": 45,\n",
        "        \"nationality\": \"Canadian\"\n",
        "      },\n",
        "      \"isbn\": \"978-1-23456-789-0\",\n",
        "      \"price\": 15.99,\n",
        "      \"available\": true,\n",
        "      \"categories\": [\"Adventure\", \"History\"],\n",
        "      \"publicationDate\": \"2020-07-01\",\n",
        "      \"reviews\": [\n",
        "        {\n",
        "          \"username\": \"booklover91\",\n",
        "          \"rating\": 4,\n",
        "          \"comment\": \"Exciting read with a few slow parts, but overall great!\",\n",
        "          \"date\": \"2021-01-15\"\n",
        "        }\n",
        "      ]\n",
        "    }\n",
        "  ],\n",
        "  \"metadata\": {\n",
        "    \"lastUpdated\": \"2025-01-08\",\n",
        "    \"numBooks\": 2,\n",
        "    \"bestSeller\": \"The Great Escape\"\n",
        "  }\n",
        "}\n",
        "\"\"\"\n",
        "\n",
        "# Function to recursively add nodes to the tree\n",
        "def add_nodes(parent, obj):\n",
        "    if isinstance(obj, dict):\n",
        "        for k, v in obj.items():\n",
        "            child = Node(k, parent=parent)\n",
        "            add_nodes(child, v)\n",
        "    elif isinstance(obj, list):\n",
        "        for i, item in enumerate(obj):\n",
        "            child = Node(f'Index {i}', parent=parent)\n",
        "            add_nodes(child, item)\n",
        "    else:\n",
        "        Node(f\"{obj}\", parent=parent)\n",
        "\n",
        "# Load JSON data\n",
        "data = json.loads(json_data)\n",
        "\n",
        "# Create the root of the tree\n",
        "root = Node('Root')\n",
        "\n",
        "# Build the tree from JSON data\n",
        "add_nodes(root, data)\n",
        "\n",
        "# Render the tree\n",
        "for pre, fill, node in RenderTree(root):\n",
        "    print(\"%s%s\" % (pre, node.name))\n"
      ],
      "metadata": {
        "colab": {
          "base_uri": "https://localhost:8080/"
        },
        "id": "b870AaUcOqhO",
        "outputId": "d686cebf-9077-46dc-d0f1-414ddaff26fd"
      },
      "execution_count": 14,
      "outputs": [
        {
          "output_type": "stream",
          "name": "stdout",
          "text": [
            "Root\n",
            "├── store\n",
            "│   ├── name\n",
            "│   │   └── Readers' Paradise\n",
            "│   ├── location\n",
            "│   │   └── 123 Book St, Fictionville, TX\n",
            "│   └── online\n",
            "│       └── True\n",
            "├── books\n",
            "│   └── Index 0\n",
            "│       ├── title\n",
            "│       │   └── The Great Escape\n",
            "│       ├── author\n",
            "│       │   ├── firstName\n",
            "│       │   │   └── Jane\n",
            "│       │   ├── lastName\n",
            "│       │   │   └── Doe\n",
            "│       │   ├── age\n",
            "│       │   │   └── 45\n",
            "│       │   └── nationality\n",
            "│       │       └── Canadian\n",
            "│       ├── isbn\n",
            "│       │   └── 978-1-23456-789-0\n",
            "│       ├── price\n",
            "│       │   └── 15.99\n",
            "│       ├── available\n",
            "│       │   └── True\n",
            "│       ├── categories\n",
            "│       │   ├── Index 0\n",
            "│       │   │   └── Adventure\n",
            "│       │   └── Index 1\n",
            "│       │       └── History\n",
            "│       ├── publicationDate\n",
            "│       │   └── 2020-07-01\n",
            "│       └── reviews\n",
            "│           └── Index 0\n",
            "│               ├── username\n",
            "│               │   └── booklover91\n",
            "│               ├── rating\n",
            "│               │   └── 4\n",
            "│               ├── comment\n",
            "│               │   └── Exciting read with a few slow parts, but overall great!\n",
            "│               └── date\n",
            "│                   └── 2021-01-15\n",
            "└── metadata\n",
            "    ├── lastUpdated\n",
            "    │   └── 2025-01-08\n",
            "    ├── numBooks\n",
            "    │   └── 2\n",
            "    └── bestSeller\n",
            "        └── The Great Escape\n"
          ]
        }
      ]
    },
    {
      "cell_type": "code",
      "source": [
        "pip install anytree"
      ],
      "metadata": {
        "colab": {
          "base_uri": "https://localhost:8080/"
        },
        "id": "kEguX-JEOs_q",
        "outputId": "0c136482-27de-4ef7-d3e8-ffca9a6e1828"
      },
      "execution_count": 13,
      "outputs": [
        {
          "output_type": "stream",
          "name": "stdout",
          "text": [
            "Collecting anytree\n",
            "  Downloading anytree-2.12.1-py3-none-any.whl.metadata (8.1 kB)\n",
            "Requirement already satisfied: six in /usr/local/lib/python3.10/dist-packages (from anytree) (1.17.0)\n",
            "Downloading anytree-2.12.1-py3-none-any.whl (44 kB)\n",
            "\u001b[?25l   \u001b[90m━━━━━━━━━━━━━━━━━━━━━━━━━━━━━━━━━━━━━━━━\u001b[0m \u001b[32m0.0/44.9 kB\u001b[0m \u001b[31m?\u001b[0m eta \u001b[36m-:--:--\u001b[0m\r\u001b[2K   \u001b[90m━━━━━━━━━━━━━━━━━━━━━━━━━━━━━━━━━━━━━━━━\u001b[0m \u001b[32m44.9/44.9 kB\u001b[0m \u001b[31m2.2 MB/s\u001b[0m eta \u001b[36m0:00:00\u001b[0m\n",
            "\u001b[?25hInstalling collected packages: anytree\n",
            "Successfully installed anytree-2.12.1\n"
          ]
        }
      ]
    },
    {
      "cell_type": "code",
      "source": [
        "# Mount drive\n",
        "from google.colab import drive\n",
        "import os\n",
        "\n",
        "drive.mount('/content/drive')\n",
        "# Change working path\n",
        "os.chdir('/content/drive/MyDrive/SRH/Modules/Data_Management_1/Practical')"
      ],
      "metadata": {
        "colab": {
          "base_uri": "https://localhost:8080/"
        },
        "id": "lm-yMEzzKFrc",
        "outputId": "286ba7a7-5fce-491d-bab0-929b4144c9ec"
      },
      "execution_count": 3,
      "outputs": [
        {
          "output_type": "stream",
          "name": "stdout",
          "text": [
            "Mounted at /content/drive\n"
          ]
        }
      ]
    }
  ]
}